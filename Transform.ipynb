{
 "cells": [
  {
   "cell_type": "code",
   "execution_count": 1,
   "id": "9c156995",
   "metadata": {},
   "outputs": [],
   "source": [
    "import sqlite3\n",
    "import pandas as pd"
   ]
  },
  {
   "cell_type": "code",
   "execution_count": 10,
   "id": "b8168787",
   "metadata": {},
   "outputs": [
    {
     "name": "stdout",
     "output_type": "stream",
     "text": [
      "No columns with null values.\n"
     ]
    }
   ],
   "source": [
    "df = pd.read_csv('stock_market_data.csv')\n",
    "null_columns = df.columns[df.isnull().any()]\n",
    "if len(null_columns) > 0:\n",
    "    print(\"Columns with null values:\", null_columns)\n",
    "else:\n",
    "    print(\"No columns with null values.\")"
   ]
  },
  {
   "cell_type": "code",
   "execution_count": null,
   "id": "f958f673",
   "metadata": {},
   "outputs": [],
   "source": [
    "df.rename(columns = {'open':'Open'}, inplace = True)  "
   ]
  },
  {
   "cell_type": "code",
   "execution_count": 12,
   "id": "b72701a0",
   "metadata": {},
   "outputs": [
    {
     "name": "stdout",
     "output_type": "stream",
     "text": [
      "Data loaded to the database successfully.\n"
     ]
    }
   ],
   "source": [
    "def load_to_db(data_table, db):\n",
    "    try:\n",
    "        connect = sqlite3.connect(db)\n",
    "        data_table.to_sql('server_stockmodel', connect, index=False, if_exists='replace')\n",
    "        print(\"Data loaded to the database successfully.\")\n",
    "    except Exception as e:\n",
    "        print(f\"Error: {e}\")\n",
    "    finally:\n",
    "        connect.close()\n",
    "\n",
    "load_to_db(df, 'stock.db')\n"
   ]
  },
  {
   "cell_type": "code",
   "execution_count": null,
   "id": "ce4b7324",
   "metadata": {},
   "outputs": [],
   "source": []
  }
 ],
 "metadata": {
  "kernelspec": {
   "display_name": "Python 3 (ipykernel)",
   "language": "python",
   "name": "python3"
  },
  "language_info": {
   "codemirror_mode": {
    "name": "ipython",
    "version": 3
   },
   "file_extension": ".py",
   "mimetype": "text/x-python",
   "name": "python",
   "nbconvert_exporter": "python",
   "pygments_lexer": "ipython3",
   "version": "3.11.6"
  }
 },
 "nbformat": 4,
 "nbformat_minor": 5
}
