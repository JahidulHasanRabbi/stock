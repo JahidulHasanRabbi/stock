{
 "cells": [
  {
   "cell_type": "code",
   "execution_count": 6,
   "id": "de171442-7b42-460d-8c6e-138ddaf241e9",
   "metadata": {},
   "outputs": [
    {
     "name": "stdout",
     "output_type": "stream",
     "text": [
      "['.git', '.ipynb_checkpoints', 'manage.py', 'server', 'stock_market_data.csv', 'stock_market_data.json', 'tast_ai_intern', 'templates', 'Untitled.ipynb']\n"
     ]
    }
   ],
   "source": [
    "import os\n",
    "print(os.listdir('../'))"
   ]
  },
  {
   "cell_type": "code",
   "execution_count": 31,
   "id": "347ab50f-95d8-494a-a340-40d4c1678791",
   "metadata": {},
   "outputs": [],
   "source": [
    "import pandas as pd\n",
    "\n",
    "import json"
   ]
  },
  {
   "cell_type": "code",
   "execution_count": 33,
   "id": "72dd07ff-196f-4274-9024-33a908de5c62",
   "metadata": {},
   "outputs": [
    {
     "name": "stdout",
     "output_type": "stream",
     "text": [
      "            date  trade_code  high   low  open close     volume\n",
      "0     2020-08-10   1JANATAMF   4.3   4.1   4.2   4.1  2,285,416\n",
      "1     2020-08-09   1JANATAMF   4.3   4.1   4.1   4.2  1,292,933\n",
      "2     2020-08-06   1JANATAMF   4.2   4.1   4.1   4.1  2,653,824\n",
      "3     2020-08-05   1JANATAMF   4.1   4.1   4.1   4.1    360,439\n",
      "4     2020-08-04   1JANATAMF   4.1   4.1   4.1   4.1     15,217\n",
      "...          ...         ...   ...   ...   ...   ...        ...\n",
      "15928 2020-07-08  ZEALBANGLA  31.8  31.6  31.8  31.6        686\n",
      "15929 2020-07-07  ZEALBANGLA  31.9  31.7  31.7  31.8      1,900\n",
      "15930 2020-07-06  ZEALBANGLA     0     0     0  31.8          0\n",
      "15931 2020-07-05  ZEALBANGLA  31.9  31.7  31.8  31.8      1,015\n",
      "15932 2020-07-02  ZEALBANGLA  31.9  31.9  31.9  31.9         70\n",
      "\n",
      "[15933 rows x 7 columns]\n"
     ]
    }
   ],
   "source": [
    "with open('../stock_market_data.json', 'r') as file:\n",
    "    df = pd.read_json(file)\n",
    "    print(df)"
   ]
  },
  {
   "cell_type": "code",
   "execution_count": 26,
   "id": "e76784ee-1157-4577-b54d-ec6cb418034a",
   "metadata": {},
   "outputs": [
    {
     "ename": "FileNotFoundError",
     "evalue": "[WinError 3] The system cannot find the path specified: 'templates'",
     "output_type": "error",
     "traceback": [
      "\u001b[1;31m---------------------------------------------------------------------------\u001b[0m",
      "\u001b[1;31mFileNotFoundError\u001b[0m                         Traceback (most recent call last)",
      "Cell \u001b[1;32mIn[26], line 1\u001b[0m\n\u001b[1;32m----> 1\u001b[0m \u001b[38;5;28mprint\u001b[39m(\u001b[43mos\u001b[49m\u001b[38;5;241;43m.\u001b[39;49m\u001b[43mlistdir\u001b[49m\u001b[43m(\u001b[49m\u001b[38;5;124;43m'\u001b[39;49m\u001b[38;5;124;43mtemplates\u001b[39;49m\u001b[38;5;124;43m'\u001b[39;49m\u001b[43m)\u001b[49m)\n",
      "\u001b[1;31mFileNotFoundError\u001b[0m: [WinError 3] The system cannot find the path specified: 'templates'"
     ]
    }
   ],
   "source": [
    "print(os.listdir('templates'))"
   ]
  },
  {
   "cell_type": "code",
   "execution_count": null,
   "id": "89f5be30-0598-4714-92fe-2483a925dd29",
   "metadata": {},
   "outputs": [],
   "source": []
  }
 ],
 "metadata": {
  "kernelspec": {
   "display_name": "Python 3 (ipykernel)",
   "language": "python",
   "name": "python3"
  },
  "language_info": {
   "codemirror_mode": {
    "name": "ipython",
    "version": 3
   },
   "file_extension": ".py",
   "mimetype": "text/x-python",
   "name": "python",
   "nbconvert_exporter": "python",
   "pygments_lexer": "ipython3",
   "version": "3.11.6"
  }
 },
 "nbformat": 4,
 "nbformat_minor": 5
}
